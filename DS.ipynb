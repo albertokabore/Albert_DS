{
  "cells": [
    {
      "cell_type": "markdown",
      "metadata": {
        "id": "vo3Cqc085w4a"
      },
      "source": [
        "# Basic\n",
        "\n",
        "- Question 1: Implement a breadth-first search algorithm for a graph represented as an adjacency list.\n",
        "- Question 2: Write a function to find the longest common subsequence of two strings using dynamic programming.\n",
        "- Question 3: Implement a depth-first search algorithm to detect cycles in a directed graph.\n",
        "- Question 4: Given a list of numbers, write a function to find the second largest number.\n",
        "- Question 5: Given a string, write a function to check if it's a palindrome using a queue.\n"
      ]
    },
    {
      "cell_type": "code",
      "execution_count": 187,
      "metadata": {},
      "outputs": [
        {
          "name": "stdout",
          "output_type": "stream",
          "text": [
            "BFS: ['A', 'B', 'C', 'D', 'E', 'F']\n"
          ]
        }
      ],
      "source": [
        "# Question 1: Breadth-First Search Algorithm\n",
        "def bfs(graph, start):\n",
        "    visited = set()\n",
        "    queue = [start]\n",
        "    result = []\n",
        "\n",
        "    while queue:\n",
        "        node = queue.pop(0)\n",
        "        if node not in visited:\n",
        "            visited.add(node)\n",
        "            result.append(node)\n",
        "            queue.extend(graph[node])\n",
        "\n",
        "    return result\n",
        "\n",
        "# Example usage:\n",
        "graph = {\n",
        "    'A': ['B', 'C'],\n",
        "    'B': ['D', 'E'],\n",
        "    'C': ['F'],\n",
        "    'D': [],\n",
        "    'E': [],\n",
        "    'F': []\n",
        "}\n",
        "print(\"BFS:\", bfs(graph, 'A'))\n"
      ]
    },
    {
      "cell_type": "code",
      "execution_count": 188,
      "metadata": {},
      "outputs": [
        {
          "name": "stdout",
          "output_type": "stream",
          "text": [
            "Longest Common Subsequence: GTAB\n"
          ]
        }
      ],
      "source": [
        "# Question 2: Longest Common Subsequence\n",
        "def longest_common_subsequence(s1, s2):\n",
        "    m, n = len(s1), len(s2)\n",
        "    dp = [[0] * (n + 1) for _ in range(m + 1)]\n",
        "\n",
        "    for i in range(1, m + 1):\n",
        "        for j in range(1, n + 1):\n",
        "            if s1[i - 1] == s2[j - 1]:\n",
        "                dp[i][j] = dp[i - 1][j - 1] + 1\n",
        "            else:\n",
        "                dp[i][j] = max(dp[i - 1][j], dp[i][j - 1])\n",
        "\n",
        "    lcs = []\n",
        "    i, j = m, n\n",
        "    while i > 0 and j > 0:\n",
        "        if s1[i - 1] == s2[j - 1]:\n",
        "            lcs.append(s1[i - 1])\n",
        "            i -= 1\n",
        "            j -= 1\n",
        "        elif dp[i - 1][j] > dp[i][j - 1]:\n",
        "            i -= 1\n",
        "        else:\n",
        "            j -= 1\n",
        "\n",
        "    return ''.join(reversed(lcs))\n",
        "\n",
        "# Example usage:\n",
        "s1 = \"AGGTAB\"\n",
        "s2 = \"GXTXAYB\"\n",
        "print(\"Longest Common Subsequence:\", longest_common_subsequence(s1, s2))\n"
      ]
    },
    {
      "cell_type": "code",
      "execution_count": 189,
      "metadata": {},
      "outputs": [
        {
          "name": "stdout",
          "output_type": "stream",
          "text": [
            "Has Cycle: True\n"
          ]
        }
      ],
      "source": [
        "# Question 3: Depth-First Search for Cycle Detection\n",
        "def has_cycle(graph):\n",
        "    visited = set()\n",
        "    rec_stack = set()\n",
        "\n",
        "    def dfs(node):\n",
        "        if node in rec_stack:\n",
        "            return True\n",
        "        if node in visited:\n",
        "            return False\n",
        "\n",
        "        visited.add(node)\n",
        "        rec_stack.add(node)\n",
        "\n",
        "        for neighbor in graph[node]:\n",
        "            if dfs(neighbor):\n",
        "                return True\n",
        "\n",
        "        rec_stack.remove(node)\n",
        "        return False\n",
        "\n",
        "    for node in graph:\n",
        "        if node not in visited:\n",
        "            if dfs(node):\n",
        "                return True\n",
        "\n",
        "    return False\n",
        "\n",
        "# Example usage:\n",
        "graph = {\n",
        "    'A': ['B'],\n",
        "    'B': ['C'],\n",
        "    'C': ['A']\n",
        "}\n",
        "print(\"Has Cycle:\", has_cycle(graph))"
      ]
    },
    {
      "cell_type": "code",
      "execution_count": 190,
      "metadata": {},
      "outputs": [
        {
          "name": "stdout",
          "output_type": "stream",
          "text": [
            "Second Largest: 45\n"
          ]
        }
      ],
      "source": [
        "# Question 4: Find Second Largest Number\n",
        "def second_largest(numbers):\n",
        "    first, second = float('-inf'), float('-inf')\n",
        "\n",
        "    for num in numbers:\n",
        "        if num > first:\n",
        "            first, second = num, first\n",
        "        elif first > num > second:\n",
        "            second = num\n",
        "\n",
        "    return second if second != float('-inf') else None\n",
        "\n",
        "# Example usage:\n",
        "numbers = [10, 20, 4, 45, 99]\n",
        "print(\"Second Largest:\", second_largest(numbers))"
      ]
    },
    {
      "cell_type": "code",
      "execution_count": 191,
      "metadata": {},
      "outputs": [
        {
          "name": "stdout",
          "output_type": "stream",
          "text": [
            "Is Palindrome: True\n"
          ]
        }
      ],
      "source": [
        "# Question 5: Palindrome Check Using Queue\n",
        "def is_palindrome(s):\n",
        "    from collections import deque\n",
        "\n",
        "    queue = deque(s)\n",
        "    while len(queue) > 1:\n",
        "        if queue.popleft() != queue.pop():\n",
        "            return False\n",
        "\n",
        "    return True\n",
        "\n",
        "# Example usage:\n",
        "s = \"radar\"\n",
        "print(\"Is Palindrome:\", is_palindrome(s))\n"
      ]
    },
    {
      "cell_type": "markdown",
      "metadata": {
        "id": "j9sZdqNu6q72"
      },
      "source": [
        "#Extra Questions on Basic Level\n",
        "\n",
        "- \"1. Implement a stack using a Python list and demonstrate its push and pop operations.\",\n",
        "- \"2. Create a queue using a Python list and demonstrate enqueue and dequeue operations.\",\n",
        "-  \"3. Implement a linked list (singly linked) with methods for insertion, deletion, and traversal.\",\n",
        "- \"4. Create a binary search tree (BST) and implement insertion and search functions.\",\n",
        "- \"5. Write a function to check if a given string is a palindrome using a stack or queue.\",\n",
        "- \"6. Implement a breadth-first search (BFS) algorithm to traverse a graph represented as an adjacency list.\",\n",
        "- \"7. Implement a depth-first search (DFS) algorithm to traverse a graph represented as an adjacency matrix.\",\n",
        "- \"8. Given a list of numbers, find the kth largest element using a heap or priority queue.\",\n",
        "- \"9. Implement a hash table (or dictionary) and demonstrate insertion, deletion, and search operations.\",\n",
        "- \"10. Write a function to detect cycles in a linked list.\""
      ]
    },
    {
      "cell_type": "code",
      "execution_count": 192,
      "metadata": {
        "id": "z6J_nWW65yle"
      },
      "outputs": [
        {
          "name": "stdout",
          "output_type": "stream",
          "text": [
            "30\n",
            "20\n"
          ]
        }
      ],
      "source": [
        "# 1. Implement a stack using a Python list and demonstrate its push and pop operations.\n",
        "class Stack:\n",
        "    def __init__(self):\n",
        "        self.stack = []\n",
        "    \n",
        "    def push(self, item):\n",
        "        self.stack.append(item)\n",
        "    \n",
        "    def pop(self):\n",
        "        if not self.is_empty():\n",
        "            return self.stack.pop()\n",
        "        return \"Stack is empty\"\n",
        "    \n",
        "    def is_empty(self):\n",
        "        return len(self.stack) == 0\n",
        "\n",
        "# Demonstration\n",
        "stack = Stack()\n",
        "stack.push(10)\n",
        "stack.push(20)\n",
        "stack.push(30)\n",
        "print(stack.pop())  # Output: 30\n",
        "print(stack.pop())  # Output: 20"
      ]
    },
    {
      "cell_type": "code",
      "execution_count": 193,
      "metadata": {},
      "outputs": [
        {
          "name": "stdout",
          "output_type": "stream",
          "text": [
            "10\n",
            "20\n"
          ]
        }
      ],
      "source": [
        "# 2. Create a queue using a Python list and demonstrate enqueue and dequeue operations.\n",
        "class Queue:\n",
        "    def __init__(self):\n",
        "        self.queue = []\n",
        "    \n",
        "    def enqueue(self, item):\n",
        "        self.queue.append(item)\n",
        "    \n",
        "    def dequeue(self):\n",
        "        if not self.is_empty():\n",
        "            return self.queue.pop(0)\n",
        "        return \"Queue is empty\"\n",
        "    \n",
        "    def is_empty(self):\n",
        "        return len(self.queue) == 0\n",
        "\n",
        "# Demonstration\n",
        "queue = Queue()\n",
        "queue.enqueue(10)\n",
        "queue.enqueue(20)\n",
        "queue.enqueue(30)\n",
        "print(queue.dequeue())  # Output: 10\n",
        "print(queue.dequeue())  # Output: 20"
      ]
    },
    {
      "cell_type": "code",
      "execution_count": 194,
      "metadata": {},
      "outputs": [
        {
          "name": "stdout",
          "output_type": "stream",
          "text": [
            "30 -> 20 -> 10 -> None\n",
            "30 -> 10 -> None\n"
          ]
        }
      ],
      "source": [
        "# 3. Implement a linked list (singly linked) with methods for insertion, deletion, and traversal.\n",
        "class Node:\n",
        "    def __init__(self, data):\n",
        "        self.data = data\n",
        "        self.next = None\n",
        "\n",
        "class LinkedList:\n",
        "    def __init__(self):\n",
        "        self.head = None\n",
        "    \n",
        "    def insert(self, data):\n",
        "        new_node = Node(data)\n",
        "        new_node.next = self.head\n",
        "        self.head = new_node\n",
        "    \n",
        "    def delete(self, key):\n",
        "        temp = self.head\n",
        "        \n",
        "        if temp is not None and temp.data == key:\n",
        "            self.head = temp.next\n",
        "            temp = None\n",
        "            return\n",
        "        \n",
        "        prev = None\n",
        "        while temp is not None and temp.data != key:\n",
        "            prev = temp\n",
        "            temp = temp.next\n",
        "        \n",
        "        if temp is None:\n",
        "            return\n",
        "        \n",
        "        prev.next = temp.next\n",
        "        temp = None\n",
        "    \n",
        "    def traverse(self):\n",
        "        temp = self.head\n",
        "        while temp:\n",
        "            print(temp.data, end=\" -> \")\n",
        "            temp = temp.next\n",
        "        print(None)\n",
        "\n",
        "# Demonstration\n",
        "ll = LinkedList()\n",
        "ll.insert(10)\n",
        "ll.insert(20)\n",
        "ll.insert(30)\n",
        "ll.traverse()  # Output: 30 -> 20 -> 10 -> None\n",
        "ll.delete(20)\n",
        "ll.traverse()  # Output: 30 -> 10 -> None\n",
        "\n"
      ]
    },
    {
      "cell_type": "code",
      "execution_count": 195,
      "metadata": {},
      "outputs": [
        {
          "name": "stdout",
          "output_type": "stream",
          "text": [
            "True\n",
            "False\n"
          ]
        }
      ],
      "source": [
        "# 4. Create a binary search tree (BST) and implement insertion and search functions.\n",
        "class BSTNode:\n",
        "    def __init__(self, key):\n",
        "        self.key = key\n",
        "        self.left = None\n",
        "        self.right = None\n",
        "\n",
        "class BST:\n",
        "    def __init__(self):\n",
        "        self.root = None\n",
        "    \n",
        "    def insert(self, root, key):\n",
        "        if root is None:\n",
        "            return BSTNode(key)\n",
        "        \n",
        "        if key < root.key:\n",
        "            root.left = self.insert(root.left, key)\n",
        "        else:\n",
        "            root.right = self.insert(root.right, key)\n",
        "        \n",
        "        return root\n",
        "    \n",
        "    def search(self, root, key):\n",
        "        if root is None or root.key == key:\n",
        "            return root is not None\n",
        "        \n",
        "        if key < root.key:\n",
        "            return self.search(root.left, key)\n",
        "        \n",
        "        return self.search(root.right, key)\n",
        "\n",
        "# Demonstration\n",
        "bst = BST()\n",
        "root = None\n",
        "root = bst.insert(root, 50)\n",
        "root = bst.insert(root, 30)\n",
        "root = bst.insert(root, 70)\n",
        "print(bst.search(root, 30))  # Output: True\n",
        "print(bst.search(root, 90))  # Output: False\n"
      ]
    },
    {
      "cell_type": "code",
      "execution_count": 196,
      "metadata": {},
      "outputs": [
        {
          "name": "stdout",
          "output_type": "stream",
          "text": [
            "True\n",
            "False\n"
          ]
        }
      ],
      "source": [
        "# 5. Write a function to check if a given string is a palindrome using a stack or queue.\n",
        "def is_palindrome(s):\n",
        "    stack = []\n",
        "    for char in s:\n",
        "        stack.append(char)\n",
        "    reversed_s = ''.join(stack[::-1])\n",
        "    return s == reversed_s\n",
        "\n",
        "# Demonstration\n",
        "print(is_palindrome(\"racecar\"))  # Output: True\n",
        "print(is_palindrome(\"hello\"))    # Output: False\n",
        "\n"
      ]
    },
    {
      "cell_type": "code",
      "execution_count": 197,
      "metadata": {},
      "outputs": [
        {
          "name": "stdout",
          "output_type": "stream",
          "text": [
            "A B C D E F "
          ]
        }
      ],
      "source": [
        "# 6. Implement a breadth-first search (BFS) algorithm to traverse a graph represented as an adjacency list.\n",
        "from collections import deque\n",
        "\n",
        "def bfs(graph, start):\n",
        "    visited = set()\n",
        "    queue = deque([start])\n",
        "    \n",
        "    while queue:\n",
        "        node = queue.popleft()\n",
        "        if node not in visited:\n",
        "            print(node, end=\" \")\n",
        "            visited.add(node)\n",
        "            queue.extend(graph[node])\n",
        "\n",
        "# Graph Representation as Adjacency List\n",
        "graph = {\n",
        "    'A': ['B', 'C'],\n",
        "    'B': ['D', 'E'],\n",
        "    'C': ['F'],\n",
        "    'D': [],\n",
        "    'E': ['F'],\n",
        "    'F': []\n",
        "}\n",
        "bfs(graph, 'A')  # Output: A B C D E F\n"
      ]
    },
    {
      "cell_type": "code",
      "execution_count": 198,
      "metadata": {},
      "outputs": [
        {
          "name": "stdout",
          "output_type": "stream",
          "text": [
            "A B D E F C "
          ]
        }
      ],
      "source": [
        "# 7. Implement a depth-first search (DFS) algorithm to traverse a graph represented as an adjacency matrix.\n",
        "def dfs(graph, node, visited=None):\n",
        "    if visited is None:\n",
        "        visited = set()\n",
        "    \n",
        "    if node not in visited:\n",
        "        print(node, end=\" \")\n",
        "        visited.add(node)\n",
        "        for neighbor in graph[node]:\n",
        "            dfs(graph, neighbor, visited)\n",
        "\n",
        "# Graph Representation as Adjacency Matrix\n",
        "graph = {\n",
        "    'A': ['B', 'C'],\n",
        "    'B': ['D', 'E'],\n",
        "    'C': ['F'],\n",
        "    'D': [],\n",
        "    'E': ['F'],\n",
        "    'F': []\n",
        "}\n",
        "dfs(graph, 'A')  # Output: A B D E F C"
      ]
    },
    {
      "cell_type": "code",
      "execution_count": 199,
      "metadata": {},
      "outputs": [
        {
          "name": "stdout",
          "output_type": "stream",
          "text": [
            "5\n"
          ]
        }
      ],
      "source": [
        "# 8. Given a list of numbers, find the kth largest element using a heap or priority queue.\n",
        "import heapq\n",
        "\n",
        "def find_kth_largest(nums, k):\n",
        "    return heapq.nlargest(k, nums)[-1]\n",
        "\n",
        "# Demonstration\n",
        "nums = [3, 2, 1, 5, 6, 4]\n",
        "k = 2\n",
        "print(find_kth_largest(nums, k))  # Output: 5\n",
        "\n"
      ]
    },
    {
      "cell_type": "code",
      "execution_count": 200,
      "metadata": {},
      "outputs": [
        {
          "name": "stdout",
          "output_type": "stream",
          "text": [
            "10\n",
            "Not found\n"
          ]
        }
      ],
      "source": [
        "# 9. Implement a hash table (or dictionary) and demonstrate insertion, deletion, and search operations.\n",
        "class HashTable:\n",
        "    def __init__(self):\n",
        "        self.table = {}\n",
        "    \n",
        "    def insert(self, key, value):\n",
        "        self.table[key] = value\n",
        "    \n",
        "    def delete(self, key):\n",
        "        if key in self.table:\n",
        "            del self.table[key]\n",
        "    \n",
        "    def search(self, key):\n",
        "        return self.table.get(key, \"Not found\")\n",
        "\n",
        "# Demonstration\n",
        "ht = HashTable()\n",
        "ht.insert(\"a\", 10)\n",
        "ht.insert(\"b\", 20)\n",
        "print(ht.search(\"a\"))  # Output: 10\n",
        "ht.delete(\"a\")\n",
        "print(ht.search(\"a\"))  # Output: Not found\n",
        "\n"
      ]
    },
    {
      "cell_type": "code",
      "execution_count": 201,
      "metadata": {},
      "outputs": [
        {
          "name": "stdout",
          "output_type": "stream",
          "text": [
            "True\n"
          ]
        }
      ],
      "source": [
        "# 10. Write a function to detect cycles in a linked list.\n",
        "class ListNode:\n",
        "    def __init__(self, value):\n",
        "        self.value = value\n",
        "        self.next = None\n",
        "\n",
        "def has_cycle(head):\n",
        "    slow = head\n",
        "    fast = head\n",
        "    while fast and fast.next:\n",
        "        slow = slow.next\n",
        "        fast = fast.next.next\n",
        "        if slow == fast:\n",
        "            return True\n",
        "    return False\n",
        "\n",
        "# Demonstration\n",
        "head = ListNode(1)\n",
        "second = ListNode(2)\n",
        "third = ListNode(3)\n",
        "head.next = second\n",
        "second.next = third\n",
        "third.next = head  # Creates a cycle\n",
        "print(has_cycle(head))  # Output: True"
      ]
    },
    {
      "cell_type": "markdown",
      "metadata": {
        "id": "kSPy8_tr53HR"
      },
      "source": [
        "- Question 6: Implement a binary search algorithm to search for a specific element in a sorted list.\n",
        "- Question 7: Write a function to reverse a linked list.\n",
        "- Question 8: Implement a Trie data structure and use it for auto-completion suggestions.\n",
        "- Question 9: Implement a heap data structure and demonstrate heap sort.\n",
        "- Question 10: Write a function to find the kth largest element in an unsorted array using a min-heap.\n",
        "- Question 11: Given a binary tree, write a function to find its height.\n",
        "- Question 12: Implement a hash table (dictionary) to count the frequency of words in a given text file.\n",
        "- Question 13: Design a LRU (Least Recently Used) cache using a combination of a doubly linked list and a dictionary.\n",
        "- Question 14: Given two arrays, write a function to find the intersection of these arrays efficiently.\n",
        "- Question 15: Implement a stack using a list in Python. Include push, pop, peek and isEmpty operations."
      ]
    },
    {
      "cell_type": "code",
      "execution_count": 202,
      "metadata": {},
      "outputs": [
        {
          "name": "stdout",
          "output_type": "stream",
          "text": [
            "3\n"
          ]
        }
      ],
      "source": [
        "# Question 6: Implement a binary search algorithm to search for a specific element in a sorted list.\n",
        "def binary_search(arr, target):\n",
        "    left, right = 0, len(arr) - 1\n",
        "    while left <= right:\n",
        "        mid = (left + right) // 2\n",
        "        if arr[mid] == target:\n",
        "            return mid\n",
        "        elif arr[mid] < target:\n",
        "            left = mid + 1\n",
        "        else:\n",
        "            right = mid - 1\n",
        "    return -1\n",
        "\n",
        "# Example\n",
        "arr = [1, 3, 5, 7, 9, 11]\n",
        "print(binary_search(arr, 7))  # Output: 3"
      ]
    },
    {
      "cell_type": "code",
      "execution_count": 203,
      "metadata": {},
      "outputs": [
        {
          "name": "stdout",
          "output_type": "stream",
          "text": [
            "4 -> 3 -> 2 -> 1 -> "
          ]
        }
      ],
      "source": [
        "# Question 7: Write a function to reverse a linked list.\n",
        "class ListNode:\n",
        "    def __init__(self, value=0, next=None):\n",
        "        self.value = value\n",
        "        self.next = next\n",
        "\n",
        "def reverse_linked_list(head):\n",
        "    prev = None\n",
        "    current = head\n",
        "    while current:\n",
        "        next_node = current.next\n",
        "        current.next = prev\n",
        "        prev = current\n",
        "        current = next_node\n",
        "    return prev\n",
        "\n",
        "# Example\n",
        "head = ListNode(1, ListNode(2, ListNode(3, ListNode(4))))\n",
        "reversed_head = reverse_linked_list(head)\n",
        "while reversed_head:\n",
        "    print(reversed_head.value, end=\" -> \")  # Output: 4 -> 3 -> 2 -> 1 -> \n",
        "    reversed_head = reversed_head.next"
      ]
    },
    {
      "cell_type": "code",
      "execution_count": 204,
      "metadata": {},
      "outputs": [
        {
          "name": "stdout",
          "output_type": "stream",
          "text": [
            "['hello', 'helium', 'help']\n"
          ]
        }
      ],
      "source": [
        "# Question 8: Implement a Trie data structure and use it for auto-completion suggestions.\n",
        "class TrieNode:\n",
        "    def __init__(self):\n",
        "        self.children = {}\n",
        "        self.is_end_of_word = False\n",
        "\n",
        "class Trie:\n",
        "    def __init__(self):\n",
        "        self.root = TrieNode()\n",
        "\n",
        "    def insert(self, word):\n",
        "        node = self.root\n",
        "        for char in word:\n",
        "            if char not in node.children:\n",
        "                node.children[char] = TrieNode()\n",
        "            node = node.children[char]\n",
        "        node.is_end_of_word = True\n",
        "\n",
        "    def auto_complete(self, prefix):\n",
        "        def dfs(node, prefix, suggestions):\n",
        "            if node.is_end_of_word:\n",
        "                suggestions.append(prefix)\n",
        "            for char, next_node in node.children.items():\n",
        "                dfs(next_node, prefix + char, suggestions)\n",
        "\n",
        "        node = self.root\n",
        "        for char in prefix:\n",
        "            if char not in node.children:\n",
        "                return []\n",
        "            node = node.children[char]\n",
        "\n",
        "        suggestions = []\n",
        "        dfs(node, prefix, suggestions)\n",
        "        return suggestions\n",
        "\n",
        "# Example\n",
        "trie = Trie()\n",
        "trie.insert(\"hello\")\n",
        "trie.insert(\"helium\")\n",
        "trie.insert(\"help\")\n",
        "print(trie.auto_complete(\"hel\"))  # Output: ['hello', 'helium', 'help']\n"
      ]
    },
    {
      "cell_type": "code",
      "execution_count": 205,
      "metadata": {},
      "outputs": [
        {
          "name": "stdout",
          "output_type": "stream",
          "text": [
            "[1, 1, 3, 4, 5, 9]\n"
          ]
        }
      ],
      "source": [
        "# Question 9: Implement a heap data structure and demonstrate heap sort.\n",
        "import heapq\n",
        "\n",
        "def heap_sort(arr):\n",
        "    heapq.heapify(arr)\n",
        "    sorted_array = [heapq.heappop(arr) for _ in range(len(arr))]\n",
        "    return sorted_array\n",
        "\n",
        "# Example\n",
        "arr = [3, 1, 4, 1, 5, 9]\n",
        "print(heap_sort(arr))  # Output: [1, 1, 3, 4, 5, 9]\n"
      ]
    },
    {
      "cell_type": "code",
      "execution_count": 206,
      "metadata": {},
      "outputs": [
        {
          "name": "stdout",
          "output_type": "stream",
          "text": [
            "5\n"
          ]
        }
      ],
      "source": [
        "# Question 10: Write a function to find the kth largest element in an unsorted array using a min-heap.\n",
        "import heapq\n",
        "\n",
        "def find_kth_largest(arr, k):\n",
        "    min_heap = arr[:k]\n",
        "    heapq.heapify(min_heap)\n",
        "    for num in arr[k:]:\n",
        "        if num > min_heap[0]:\n",
        "            heapq.heappop(min_heap)\n",
        "            heapq.heappush(min_heap, num)\n",
        "    return min_heap[0]\n",
        "\n",
        "# Example\n",
        "arr = [3, 2, 1, 5, 6, 4]\n",
        "print(find_kth_largest(arr, 2))  # Output: 5"
      ]
    },
    {
      "cell_type": "code",
      "execution_count": 207,
      "metadata": {},
      "outputs": [
        {
          "name": "stdout",
          "output_type": "stream",
          "text": [
            "3\n"
          ]
        }
      ],
      "source": [
        "# Question 11: Given a binary tree, write a function to find its height.\n",
        "class TreeNode:\n",
        "    def __init__(self, value=0, left=None, right=None):\n",
        "        self.value = value\n",
        "        self.left = left\n",
        "        self.right = right\n",
        "\n",
        "def tree_height(root):\n",
        "    if not root:\n",
        "        return 0\n",
        "    return 1 + max(tree_height(root.left), tree_height(root.right))\n",
        "\n",
        "# Example\n",
        "root = TreeNode(1, TreeNode(2, TreeNode(4)), TreeNode(3))\n",
        "print(tree_height(root))  # Output: 3"
      ]
    },
    {
      "cell_type": "code",
      "execution_count": 208,
      "metadata": {},
      "outputs": [],
      "source": [
        "# Question 12: Implement a hash table (dictionary) to count the frequency of words in a given text file.\n",
        "from collections import Counter\n",
        "\n",
        "def word_frequency(file_path):\n",
        "    with open(file_path, 'r') as file:\n",
        "        text = file.read()\n",
        "    words = text.split()\n",
        "    return Counter(words)\n",
        "\n"
      ]
    },
    {
      "cell_type": "code",
      "execution_count": 209,
      "metadata": {},
      "outputs": [
        {
          "name": "stdout",
          "output_type": "stream",
          "text": [
            "1\n",
            "-1\n"
          ]
        }
      ],
      "source": [
        "# Question 13: Design a LRU (Least Recently Used) cache using a combination of a doubly linked list and a dictionary.\n",
        "class LRUCache:\n",
        "    def __init__(self, capacity):\n",
        "        self.cache = {}\n",
        "        self.capacity = capacity\n",
        "        self.order = []\n",
        "\n",
        "    def get(self, key):\n",
        "        if key in self.cache:\n",
        "            self.order.remove(key)\n",
        "            self.order.append(key)\n",
        "            return self.cache[key]\n",
        "        return -1\n",
        "\n",
        "    def put(self, key, value):\n",
        "        if key in self.cache:\n",
        "            self.order.remove(key)\n",
        "        elif len(self.cache) >= self.capacity:\n",
        "            lru = self.order.pop(0)\n",
        "            del self.cache[lru]\n",
        "        self.cache[key] = value\n",
        "        self.order.append(key)\n",
        "\n",
        "# Example\n",
        "cache = LRUCache(2)\n",
        "cache.put(1, 1)\n",
        "cache.put(2, 2)\n",
        "print(cache.get(1))  # Output: 1\n",
        "cache.put(3, 3)\n",
        "print(cache.get(2))  # Output: -1"
      ]
    },
    {
      "cell_type": "code",
      "execution_count": 210,
      "metadata": {},
      "outputs": [
        {
          "name": "stdout",
          "output_type": "stream",
          "text": [
            "[2, 3]\n"
          ]
        }
      ],
      "source": [
        "# Question 14: Given two arrays, write a function to find the intersection of these arrays efficiently.\n",
        "def intersection_of_arrays(arr1, arr2):\n",
        "    return list(set(arr1) & set(arr2))\n",
        "\n",
        "# Example\n",
        "print(intersection_of_arrays([1, 2, 2, 3], [2, 3, 4]))  # Output: [2, 3]"
      ]
    },
    {
      "cell_type": "code",
      "execution_count": 211,
      "metadata": {},
      "outputs": [
        {
          "name": "stdout",
          "output_type": "stream",
          "text": [
            "20\n",
            "20\n",
            "False\n"
          ]
        }
      ],
      "source": [
        "# Question 15: Implement a stack using a list in Python. Include push, pop, peek, and isEmpty operations.\n",
        "class Stack:\n",
        "    def __init__(self):\n",
        "        self.stack = []\n",
        "\n",
        "    def push(self, value):\n",
        "        self.stack.append(value)\n",
        "\n",
        "    def pop(self):\n",
        "        return self.stack.pop() if not self.is_empty() else None\n",
        "\n",
        "    def peek(self):\n",
        "        return self.stack[-1] if not self.is_empty() else None\n",
        "\n",
        "    def is_empty(self):\n",
        "        return len(self.stack) == 0\n",
        "\n",
        "# Example\n",
        "stack = Stack()\n",
        "stack.push(10)\n",
        "stack.push(20)\n",
        "print(stack.peek())  # Output: 20\n",
        "print(stack.pop())   # Output: 20\n",
        "print(stack.is_empty())  # Output: False"
      ]
    },
    {
      "cell_type": "code",
      "execution_count": null,
      "metadata": {},
      "outputs": [],
      "source": []
    }
  ],
  "metadata": {
    "colab": {
      "provenance": []
    },
    "kernelspec": {
      "display_name": ".venv",
      "language": "python",
      "name": "python3"
    },
    "language_info": {
      "codemirror_mode": {
        "name": "ipython",
        "version": 3
      },
      "file_extension": ".py",
      "mimetype": "text/x-python",
      "name": "python",
      "nbconvert_exporter": "python",
      "pygments_lexer": "ipython3",
      "version": "3.13.0"
    }
  },
  "nbformat": 4,
  "nbformat_minor": 0
}
