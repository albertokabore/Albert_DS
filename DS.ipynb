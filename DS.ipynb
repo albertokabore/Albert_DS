{
  "nbformat": 4,
  "nbformat_minor": 0,
  "metadata": {
    "colab": {
      "provenance": []
    },
    "kernelspec": {
      "name": "python3",
      "display_name": "Python 3"
    },
    "language_info": {
      "name": "python"
    }
  },
  "cells": [
    {
      "cell_type": "markdown",
      "source": [
        "# Basic\n",
        "\n",
        "- Question 1: Implement a breadth-first search algorithm for a graph represented as an adjacency list.\n",
        "- Question 2: Write a function to find the longest common subsequence of two strings using dynamic programming.\n",
        "- Question 3: Implement a depth-first search algorithm to detect cycles in a directed graph.\n",
        "- Question 4: Given a list of numbers, write a function to find the second largest number.\n",
        "- Question 5: Given a string, write a function to check if it's a palindrome using a queue.\n"
      ],
      "metadata": {
        "id": "vo3Cqc085w4a"
      }
    },
    {
      "cell_type": "markdown",
      "source": [
        "#Extra Questions on Basic Level\n",
        "\n",
        "- \"1. Implement a stack using a Python list and demonstrate its push and pop operations.\",\n",
        "- \"2. Create a queue using a Python list and demonstrate enqueue and dequeue operations.\",\n",
        "-  \"3. Implement a linked list (singly linked) with methods for insertion, deletion, and traversal.\",\n",
        "- \"4. Create a binary search tree (BST) and implement insertion and search functions.\",\n",
        "- \"5. Write a function to check if a given string is a palindrome using a stack or queue.\",\n",
        "- \"6. Implement a breadth-first search (BFS) algorithm to traverse a graph represented as an adjacency list.\",\n",
        "- \"7. Implement a depth-first search (DFS) algorithm to traverse a graph represented as an adjacency matrix.\",\n",
        "- \"8. Given a list of numbers, find the kth largest element using a heap or priority queue.\",\n",
        "- \"9. Implement a hash table (or dictionary) and demonstrate insertion, deletion, and search operations.\",\n",
        "- \"10. Write a function to detect cycles in a linked list.\""
      ],
      "metadata": {
        "id": "j9sZdqNu6q72"
      }
    },
    {
      "cell_type": "code",
      "source": [],
      "metadata": {
        "id": "z6J_nWW65yle"
      },
      "execution_count": null,
      "outputs": []
    },
    {
      "cell_type": "code",
      "source": [],
      "metadata": {
        "id": "zwnHOvxV69sA"
      },
      "execution_count": null,
      "outputs": []
    },
    {
      "cell_type": "markdown",
      "source": [
        "# Intermediate Level\n",
        "- Question 6: Implement a binary search algorithm to search for a specific element in a sorted list.\n",
        "- Question 7: Write a function to reverse a linked list.\n",
        "- Question 8: Implement a Trie data structure and use it for auto-completion suggestions.\n",
        "- Question 9: Implement a heap data structure and demonstrate heap sort.\n",
        "- Question 10: Write a function to find the kth largest element in an unsorted array using a min-heap.\n",
        "- Question 11: Given a binary tree, write a function to find its height.\n",
        "- Question 12: Implement a hash table (dictionary) to count the frequency of words in a given text file.\n",
        "- Question 13: Design a LRU (Least Recently Used) cache using a combination of a doubly linked list and a dictionary.\n",
        "- Question 14: Given two arrays, write a function to find the intersection of these arrays efficiently.\n",
        "- Question 15: Implement a stack using a list in Python. Include push, pop, peek and isEmpty operations."
      ],
      "metadata": {
        "id": "kSPy8_tr53HR"
      }
    }
  ]
}